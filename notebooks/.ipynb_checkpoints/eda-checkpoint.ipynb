{
 "cells": [
  {
   "cell_type": "code",
   "execution_count": null,
   "id": "66fd83d4",
   "metadata": {},
   "outputs": [
    {
     "ename": "",
     "evalue": "",
     "output_type": "error",
     "traceback": [
      "\u001b[1;31mRunning cells with 'Python 3.13.2' requires the ipykernel package.\n",
      "\u001b[1;31m<a href='command:jupyter.createPythonEnvAndSelectController'>Create a Python Environment</a> with the required packages.\n",
      "\u001b[1;31mOr install 'ipykernel' using the command: 'c:/Users/Admin/AppData/Local/Programs/Python/Python313/python.exe -m pip install ipykernel -U --user --force-reinstall'"
     ]
    }
   ],
   "source": [
    "import pandas as pd\n",
    "\n",
    "transactions_path = \"../data/raw/client_1_transactions_3m.csv\"\n",
    "transfers_path = \"../data/raw/client_1_transfers_3m.csv\"\n",
    "\n",
    "transactions = pd.read_csv(transactions_path)\n",
    "transfers = pd.read_csv(transfers_path)\n",
    "\n",
    "print(\"✅ Данные загружены\")\n"
   ]
  },
  {
   "cell_type": "code",
   "execution_count": null,
   "id": "58057f33",
   "metadata": {},
   "outputs": [],
   "source": [
    "print(\"Транзакции:\", transactions.shape)\n",
    "print(\"Переводы:\", transfers.shape)\n",
    "\n",
    "print(\"\\nПервые 5 транзакций:\")\n",
    "display(transactions.head())\n",
    "\n",
    "print(\"\\nПервые 5 переводов:\")\n",
    "display(transfers.head())\n"
   ]
  },
  {
   "cell_type": "code",
   "execution_count": null,
   "id": "c03b84c4",
   "metadata": {},
   "outputs": [],
   "source": [
    "if \"category\" in transactions.columns:\n",
    "    print(\"Уникальные категории транзакций:\")\n",
    "    print(transactions[\"category\"].unique())\n",
    "\n",
    "if \"currency\" in transactions.columns:\n",
    "    print(\"\\nВалюты:\")\n",
    "    print(transactions[\"currency\"].unique())\n"
   ]
  },
  {
   "cell_type": "code",
   "execution_count": null,
   "id": "c2bcf7cb",
   "metadata": {},
   "outputs": [],
   "source": [
    "print(\"Пропуски в транзакциях:\")\n",
    "print(transactions.isna().sum())\n",
    "\n",
    "print(\"\\nПропуски в переводах:\")\n",
    "print(transfers.isna().sum())\n"
   ]
  },
  {
   "cell_type": "code",
   "execution_count": null,
   "id": "d73ffff6",
   "metadata": {},
   "outputs": [],
   "source": [
    "if \"date\" in transactions.columns:\n",
    "    transactions[\"date\"] = pd.to_datetime(transactions[\"date\"], errors=\"coerce\")\n",
    "    print(\"Диапазон дат по транзакциям:\")\n",
    "    print(transactions[\"date\"].min(), \"→\", transactions[\"date\"].max())\n"
   ]
  }
 ],
 "metadata": {
  "kernelspec": {
   "display_name": "Python 3",
   "language": "python",
   "name": "python3"
  },
  "language_info": {
   "name": "python",
   "version": "3.13.2"
  }
 },
 "nbformat": 4,
 "nbformat_minor": 5
}
